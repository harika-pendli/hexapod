{
 "cells": [
  {
   "cell_type": "code",
   "execution_count": 37,
   "metadata": {},
   "outputs": [
    {
     "name": "stdout",
     "output_type": "stream",
     "text": [
      "8.141874592106616 28.040676379696087\n",
      "(-2.1954011246342033, 19.898801787589473, 33.918647240607825)\n"
     ]
    }
   ],
   "source": [
    "import numpy as np\n",
    "import math as m\n",
    "from sympy import *\n",
    "import matplotlib.pyplot as plt\n",
    "\n",
    "a1 = 65\n",
    "a2 = 65\n",
    "[x, y, z] = [113.5833, -4.3543, -16.25]\n",
    "# x = 65\n",
    "# y = 0\n",
    "# z = -65\n",
    "# def ik(x,y,z):\n",
    "    # r = m.sqrt(y*y+z*z)\n",
    "    # al = atan(z/y)\n",
    "    # bt = acos((a2*a2-a1*a1-r*r)/(-2*a1*r))\n",
    "    # t2 = bt-al\n",
    "    # t3 = m.radians(180) - acos((r*r-a1*a1-a2*a2)/(-2*a1*a2))\n",
    "    # t1 = atan(x/y)\n",
    "    # return m.degrees(t1),m.degrees(t2),m.degrees(t3)\n",
    "\n",
    "def ik(x,y,z):\n",
    "    r = m.sqrt(x*x+z*z)\n",
    "    al = (atan(z/x))\n",
    "    bt = acos((a2*a2-a1*a1-r*r)/(-2*a1*r))\n",
    "    ga = acos((a1*a2-a1*a1-r*r)/(-2*a2*r))\n",
    "    t3 = m.radians(90)-(ga + bt)\n",
    "    t2 = bt-al\n",
    "    # t3 = m.radians(180) - acos((r*r-a1*a1-a2*a2)/(-2*a1*a2))\n",
    "    t1 = atan(y/x)\n",
    "    print(m.degrees(al),m.degrees(bt))\n",
    "    return m.degrees(t1),m.degrees(t2),m.degrees(t3)\n",
    "\n",
    "print(ik(x,y,z))\n",
    "\n",
    "\n"
   ]
  }
 ],
 "metadata": {
  "interpreter": {
   "hash": "916dbcbb3f70747c44a77c7bcd40155683ae19c65e1c03b4aa3499c5328201f1"
  },
  "kernelspec": {
   "display_name": "Python 3.8.10 64-bit",
   "language": "python",
   "name": "python3"
  },
  "language_info": {
   "codemirror_mode": {
    "name": "ipython",
    "version": 3
   },
   "file_extension": ".py",
   "mimetype": "text/x-python",
   "name": "python",
   "nbconvert_exporter": "python",
   "pygments_lexer": "ipython3",
   "version": "3.8.10"
  },
  "orig_nbformat": 4
 },
 "nbformat": 4,
 "nbformat_minor": 2
}

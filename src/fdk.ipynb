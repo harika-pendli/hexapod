{
 "cells": [
  {
   "cell_type": "code",
   "execution_count": 36,
   "metadata": {},
   "outputs": [
    {
     "data": {
      "text/latex": [
       "$\\displaystyle \\left[\\begin{matrix}6.12323399573677 \\cdot 10^{-17} & -1.0 & 0 & -65.0\\\\6.12323399573677 \\cdot 10^{-17} & 3.74939945665464 \\cdot 10^{-33} & -1.0 & -0.999999999999996\\\\1.0 & 6.12323399573677 \\cdot 10^{-17} & 6.12323399573677 \\cdot 10^{-17} & 65.0\\\\0 & 0 & 0 & 1\\end{matrix}\\right]$"
      ],
      "text/plain": [
       "Matrix([\n",
       "[6.12323399573677e-17,                 -1.0,                    0,              -65.0],\n",
       "[6.12323399573677e-17, 3.74939945665464e-33,                 -1.0, -0.999999999999996],\n",
       "[                 1.0, 6.12323399573677e-17, 6.12323399573677e-17,               65.0],\n",
       "[                   0,                    0,                    0,                  1]])"
      ]
     },
     "execution_count": 36,
     "metadata": {},
     "output_type": "execute_result"
    }
   ],
   "source": [
    "import numpy as np\n",
    "import math as m\n",
    "from sympy import *\n",
    "\n",
    "th,th1,th2,th3 = symbols('th th1 th2 th3')\n",
    "a1,a2,a3 = symbols('a1 a2 a3')\n",
    "b1,b2,b3 = symbols('b1 b2 b3')\n",
    "c1,c2,c3 = symbols('c1 c2 c3')\n",
    "\n",
    "Rx = Matrix([[1, 0, 0],[0, cos(th),-sin(th)],[0,sin(th),cos(th)]])\n",
    "Ry = Matrix([[cos(th),0,sin(th)],[0,1,0],[-sin(th),0,cos(th)]])\n",
    "Rz = Matrix([[cos(th),-sin(th),0],[sin(th),cos(th),0],[0,0,1]])\n",
    "\n",
    "A = Rx.subs({th:0})\n",
    "B = Rx.subs({th:0})\n",
    "C = Rz.subs({th:0})\n",
    "\n",
    "\n",
    "\n",
    "# [a1,a2,a3]=[0,0,20]\n",
    "# [b1,b2,b3]=[65,0,0]\n",
    "# [c1,c2,c3]=[0,-65,0]\n",
    "[a1,a2,a3]=[cos(th1),sin(th1),0]\n",
    "[b1,b2,b3]=[65*cos(th2),65*sin(th2),0]\n",
    "[c1,c2,c3]=[65*cos(th3),65*sin(th3),0]\n",
    "\n",
    "T1 = Matrix([[1, 0, 0, a1],[0, cos(th1),-sin(th1),a2],[0,sin(th1),cos(th1),a3],[0,0,0,1]])\n",
    "T2 = Matrix([[1, 0, 0, b1],[0, cos(th2),-sin(th2),b2],[0,sin(th2),cos(th2),b3],[0,0,0,1]])\n",
    "T3 = Matrix([[cos(th3),-sin(th3),0,c1],[sin(th3),cos(th3),0,c2],[0,0,1,c3],[0,0,0,1]])\n",
    "\n",
    "T13 = T1*T2*T3\n",
    "# T13.subs({th1:m.radians(-90),th2:m.radians(180),th3:m.radians(90)})\n",
    "T13.subs({th1:m.radians(0),th2:m.radians(-30),th3:m.radians(30)})\n",
    "# T13"
   ]
  }
 ],
 "metadata": {
  "interpreter": {
   "hash": "916dbcbb3f70747c44a77c7bcd40155683ae19c65e1c03b4aa3499c5328201f1"
  },
  "kernelspec": {
   "display_name": "Python 3.8.10 64-bit",
   "language": "python",
   "name": "python3"
  },
  "language_info": {
   "name": "python",
   "version": "3.8.10"
  },
  "orig_nbformat": 4
 },
 "nbformat": 4,
 "nbformat_minor": 2
}

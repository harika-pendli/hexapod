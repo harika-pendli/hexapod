{
 "cells": [
  {
   "cell_type": "code",
   "execution_count": 40,
   "metadata": {},
   "outputs": [
    {
     "name": "stdout",
     "output_type": "stream",
     "text": [
      "⎡6.12323399573677e-17          1.0           0   1.00000000000001⎤\n",
      "⎢                                                                ⎥\n",
      "⎢         0                     0            -1         0        ⎥\n",
      "⎢                                                                ⎥\n",
      "⎢        -1.0          6.12323399573677e-17  0        -120.0     ⎥\n",
      "⎢                                                                ⎥\n",
      "⎣         0                     0            0          1        ⎦\n"
     ]
    }
   ],
   "source": [
    "import numpy as np\n",
    "from math import radians, sqrt\n",
    "from sympy import *\n",
    "import matplotlib.pyplot as plt\n",
    "\n",
    "t1,t2,t3 = symbols('t1 t2 t3')\n",
    "a1 = 65\n",
    "a2 = 65\n",
    "\n",
    "T00 = Matrix([[0,-1,0,0],[1,0,0,-35],[0,0,1,0],[0,0,0,1]])\n",
    "\n",
    "T01 = Matrix([[cos(t1), 0,  -sin(t1),   cos(t1)],\n",
    "            [sin(t1),   0,  cos(t1),    sin(t1)],\n",
    "            [0, -1, 0,  10],\n",
    "            [0, 0,  0,  1]])\n",
    "\n",
    "T12 = Matrix([[cos(t2), sin(t2),    0,  a1*cos(t2)],\n",
    "            [sin(t2),   -cos(t2),   0,  a1*sin(t2)],\n",
    "            [0, 0,  -1, 0],\n",
    "            [0, 0,  0,  1]])\n",
    "T23 = Matrix([[cos(t3), -sin(t3),   0,  a2*cos(t3)],\n",
    "            [sin(t3),   cos(t3),    0,  a2*sin(t3)],\n",
    "            [0, 0,  1,  0],\n",
    "            [0, 0,  0,  1]])\n",
    "\n",
    "T02 = (T01*T12)\n",
    "T03 = (T01*T12*T23)\n",
    "# print('T01 = ')\n",
    "# pprint(T01)\n",
    "# print('\\n')\n",
    "# pprint(T12)\n",
    "# print('\\n')\n",
    "# pprint(T23)\n",
    "# T03\n",
    "# pprint(T01.subs({t1: radians(0), t2: radians(0), t3: radians(0)}))\n",
    "# pprint(T02.subs({t1: radians(0), t2: radians(0), t3: radians(0)}))\n",
    "pprint(T03.subs({t1: radians(0), t2: radians(90), t3: radians(90)}))\n"
   ]
  },
  {
   "cell_type": "code",
   "execution_count": 17,
   "metadata": {},
   "outputs": [
    {
     "name": "stdout",
     "output_type": "stream",
     "text": [
      "[[-65.0000000000000]\n",
      " [0]\n",
      " [-65.0000000000000]]\n"
     ]
    }
   ],
   "source": [
    "def frd():\n",
    "    Te = T03.subs({t1: radians(0), t2: radians(90), t3: radians(90)})\n",
    "    t = np.array(Te[0:3,3])\n",
    "    print(t)\n",
    "frd()"
   ]
  },
  {
   "cell_type": "code",
   "execution_count": null,
   "metadata": {},
   "outputs": [],
   "source": [
    "fig = plt.figure(figsize=(30,10))\n",
    "ax = fig.add_subplot(1, 2, 1, projection='3d')\n",
    "ax2 = fig.add_subplot(1, 2, 2)\n",
    "# ax = plt.axes(projection ='3d')\n",
    "ax2.set_xlabel('X-axis')\n",
    "ax2.set_ylabel('Y-axis')\n",
    "ax.set_xlabel('X-Axis')\n",
    "ax.set_ylabel('Y-Axis')\n",
    "ax.set_zlabel('Z-Axis')\n",
    "# ax.plot3D([0,0,0],[0,65,0],'violet')\n",
    "# ax.plot3D([0,65,0],[0,65,-65],'indigo')\n",
    "for i in range(-50,0,5):\n",
    "    \n",
    "    print(a[0],a[1],a[2])\n",
    "    ax2.scatter(a[1],a[2],color=\"red\")\n",
    "    ax.scatter(a[0],a[1],a[2],color=\"blue\")"
   ]
  }
 ],
 "metadata": {
  "interpreter": {
   "hash": "916dbcbb3f70747c44a77c7bcd40155683ae19c65e1c03b4aa3499c5328201f1"
  },
  "kernelspec": {
   "display_name": "Python 3.8.10 64-bit",
   "language": "python",
   "name": "python3"
  },
  "language_info": {
   "codemirror_mode": {
    "name": "ipython",
    "version": 3
   },
   "file_extension": ".py",
   "mimetype": "text/x-python",
   "name": "python",
   "nbconvert_exporter": "python",
   "pygments_lexer": "ipython3",
   "version": "3.8.10"
  },
  "orig_nbformat": 4
 },
 "nbformat": 4,
 "nbformat_minor": 2
}
